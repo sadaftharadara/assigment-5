{
 "cells": [
  {
   "cell_type": "raw",
   "id": "55cea9c4",
   "metadata": {},
   "source": [
    "Number 1 -\n",
    "\n",
    "    Question -\n",
    "\n",
    "    What are escape characters, and how do you use them?\n",
    "\n",
    "    Answer -\n",
    "\n",
    "    Escape characters represent characters in string values that would otherwise be difficult or impossible to type into code. The escape character allows yus to use double quotes when you normally would not be allowed.\n",
    "\n"
   ]
  },
  {
   "cell_type": "code",
   "execution_count": 1,
   "id": "318568c6",
   "metadata": {},
   "outputs": [
    {
     "name": "stdout",
     "output_type": "stream",
     "text": [
      "We have enrolled in \"iNeuron's\" Full Stack Data Science class.\n"
     ]
    }
   ],
   "source": [
    "data = \"We have enrolled in \\\"iNeuron's\\\" Full Stack Data Science class.\"\n",
    "print(data) "
   ]
  },
  {
   "cell_type": "raw",
   "id": "0abf9027",
   "metadata": {},
   "source": [
    "Number 2 -\n",
    "\n",
    "    Question -\n",
    "\n",
    "    What do the escape characters n and t stand for?\n",
    "\n",
    "    Answer -\n",
    "\n",
    "    The escape characters n and t stand for newline and tab respectively. \\n is a newline; \\t is a tab\n"
   ]
  },
  {
   "cell_type": "raw",
   "id": "ec10bd7b",
   "metadata": {},
   "source": [
    "Number 3 -\n",
    "\n",
    "    Question -\n",
    "\n",
    "    What is the way to include backslash characters in a string?\n",
    "\n",
    "    Answer -\n",
    "\n",
    "    The \\ escape character will represent a backslash character.\n"
   ]
  },
  {
   "cell_type": "raw",
   "id": "630f7341",
   "metadata": {},
   "source": [
    "Number 4 -\n",
    "\n",
    "    Question -\n",
    "\n",
    "    The string \"Howl's Moving Castle\" is a correct value. Why isn't the single quote character in the word Howl's not escaped a problem?\n",
    "\n",
    "    Answer -\n",
    "\n",
    "    The single quote in Howl's is fine because we have used double quotes to mark the beginning and end of the string.\n"
   ]
  },
  {
   "cell_type": "raw",
   "id": "37afa1c6",
   "metadata": {},
   "source": [
    "Number 5 -\n",
    "\n",
    "    Question -\n",
    "\n",
    "    How do you write a string of newlines if you don't want to use the n character?\n",
    "\n",
    "    Answer -\n",
    "\n",
    "    Multiline strings allow us to use newlines in strings without the \\n escape character.\n"
   ]
  },
  {
   "cell_type": "raw",
   "id": "3a7985d3",
   "metadata": {},
   "source": [
    "Number 6 -\n",
    "\n",
    "    Question -\n",
    "\n",
    "    What are the values of the given expressions?\n",
    "\n",
    "        'Hello, world!'[1]\n",
    "        'Hello, world!'[0:5]\n",
    "        'Hello, world!'[:5]\n",
    "        'Hello, world!'[3:]\n",
    "\n",
    "    Answer -\n"
   ]
  },
  {
   "cell_type": "code",
   "execution_count": 2,
   "id": "1349fbf3",
   "metadata": {},
   "outputs": [
    {
     "data": {
      "text/plain": [
       "'e'"
      ]
     },
     "execution_count": 2,
     "metadata": {},
     "output_type": "execute_result"
    }
   ],
   "source": [
    "'Hello, world!'[1]"
   ]
  },
  {
   "cell_type": "code",
   "execution_count": 3,
   "id": "7fe8fc4c",
   "metadata": {},
   "outputs": [
    {
     "data": {
      "text/plain": [
       "'Hello'"
      ]
     },
     "execution_count": 3,
     "metadata": {},
     "output_type": "execute_result"
    }
   ],
   "source": [
    "'Hello, world!'[0:5]"
   ]
  },
  {
   "cell_type": "code",
   "execution_count": 4,
   "id": "20e0d755",
   "metadata": {},
   "outputs": [
    {
     "data": {
      "text/plain": [
       "'Hello'"
      ]
     },
     "execution_count": 4,
     "metadata": {},
     "output_type": "execute_result"
    }
   ],
   "source": [
    "'Hello, world!'[:5]"
   ]
  },
  {
   "cell_type": "code",
   "execution_count": 5,
   "id": "83d1951c",
   "metadata": {},
   "outputs": [
    {
     "data": {
      "text/plain": [
       "'lo, world!'"
      ]
     },
     "execution_count": 5,
     "metadata": {},
     "output_type": "execute_result"
    }
   ],
   "source": [
    "'Hello, world!'[3:]"
   ]
  },
  {
   "cell_type": "raw",
   "id": "67f7711e",
   "metadata": {},
   "source": [
    "Number 7 -\n",
    "\n",
    "    Question -\n",
    "\n",
    "    What are the values of the following expressions?\n",
    "\n",
    "        'Hello'.upper()\n",
    "        'Hello'.upper().isupper()\n",
    "        'Hello'.upper().lower()\n",
    "\n",
    "    Answer -\n"
   ]
  },
  {
   "cell_type": "code",
   "execution_count": 6,
   "id": "bda5d882",
   "metadata": {},
   "outputs": [
    {
     "data": {
      "text/plain": [
       "'HELLO'"
      ]
     },
     "execution_count": 6,
     "metadata": {},
     "output_type": "execute_result"
    }
   ],
   "source": [
    "'Hello'.upper()"
   ]
  },
  {
   "cell_type": "code",
   "execution_count": 7,
   "id": "9086b1a0",
   "metadata": {},
   "outputs": [
    {
     "data": {
      "text/plain": [
       "True"
      ]
     },
     "execution_count": 7,
     "metadata": {},
     "output_type": "execute_result"
    }
   ],
   "source": [
    "'Hello'.upper().isupper()\n",
    "\n",
    "True\n",
    "\n"
   ]
  },
  {
   "cell_type": "code",
   "execution_count": 8,
   "id": "c8419356",
   "metadata": {},
   "outputs": [
    {
     "data": {
      "text/plain": [
       "'hello'"
      ]
     },
     "execution_count": 8,
     "metadata": {},
     "output_type": "execute_result"
    }
   ],
   "source": [
    "'Hello'.upper().lower()"
   ]
  },
  {
   "cell_type": "raw",
   "id": "46b0f1eb",
   "metadata": {},
   "source": [
    "Number 8 -\n",
    "\n",
    "    Question -\n",
    "\n",
    "    What are the values of the following expressions?\n",
    "\n",
    "        'Remember, remember, the fifth of July.'.split()\n",
    "\n",
    "    -'-'.join('There can only one.'.split())\n",
    "\n",
    "    Answer -\n"
   ]
  },
  {
   "cell_type": "code",
   "execution_count": 9,
   "id": "6c18c41f",
   "metadata": {},
   "outputs": [
    {
     "data": {
      "text/plain": [
       "['Remember,', 'remember,', 'the', 'fifth', 'of', 'July.']"
      ]
     },
     "execution_count": 9,
     "metadata": {},
     "output_type": "execute_result"
    }
   ],
   "source": [
    "'Remember, remember, the fifth of July.'.split()"
   ]
  },
  {
   "cell_type": "code",
   "execution_count": 10,
   "id": "edc3186f",
   "metadata": {},
   "outputs": [
    {
     "data": {
      "text/plain": [
       "'There-can-only-one.'"
      ]
     },
     "execution_count": 10,
     "metadata": {},
     "output_type": "execute_result"
    }
   ],
   "source": [
    "'-'.join('There can only one.'.split())"
   ]
  },
  {
   "cell_type": "raw",
   "id": "78f632f6",
   "metadata": {},
   "source": [
    "Number 9 -\n",
    "\n",
    "    Question -\n",
    "\n",
    "    What are the methods for right-justifying, left-justifying, and centering a string?\n",
    "\n",
    "    Answer -\n",
    "\n",
    "    The rjust(), ljust(), and center() string methods, respectively are the methods for right-justifying, left-justifying, and centering a string\n",
    "\n"
   ]
  },
  {
   "cell_type": "raw",
   "id": "5cfbd0a1",
   "metadata": {},
   "source": [
    "Number 10 -\n",
    "\n",
    "    Question -\n",
    "\n",
    "    What is the best way to remove whitespace characters from the start or end?\n",
    "\n",
    "    Answer -\n",
    "\n",
    "    The lstrip() and rstrip() methods remove whitespace from the left and right ends of a string, respectively.\n"
   ]
  }
 ],
 "metadata": {
  "kernelspec": {
   "display_name": "Python 3 (ipykernel)",
   "language": "python",
   "name": "python3"
  },
  "language_info": {
   "codemirror_mode": {
    "name": "ipython",
    "version": 3
   },
   "file_extension": ".py",
   "mimetype": "text/x-python",
   "name": "python",
   "nbconvert_exporter": "python",
   "pygments_lexer": "ipython3",
   "version": "3.10.9"
  }
 },
 "nbformat": 4,
 "nbformat_minor": 5
}
