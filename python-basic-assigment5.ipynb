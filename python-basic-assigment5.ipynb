{
 "cells": [
  {
   "cell_type": "raw",
   "id": "a8f22af7",
   "metadata": {},
   "source": [
    "Number 1 -\n",
    "\n",
    "    Question -\n",
    "\n",
    "    What does an empty dictionary's code look like?\n",
    "\n",
    "    Answer -\n",
    "\n",
    "    An empty dictionary's code look like two curly brackets: {}\n"
   ]
  },
  {
   "cell_type": "raw",
   "id": "cc64a2a2",
   "metadata": {},
   "source": [
    "\n",
    "Number 2 -\n",
    "\n",
    "    Question -\n",
    "\n",
    "    What is the value of a dictionary value with the key 'foo' and the value 42?\n",
    "\n",
    "    Answer -\n",
    "\n",
    "    The value of a dictionary value with the key 'foo' and the value 42 is {'foo': 42}\n",
    "\n"
   ]
  },
  {
   "cell_type": "code",
   "execution_count": 1,
   "id": "98908a4b",
   "metadata": {},
   "outputs": [],
   "source": [
    "dic = {'foo' : 42}"
   ]
  },
  {
   "cell_type": "raw",
   "id": "370478ee",
   "metadata": {},
   "source": [
    "Number 3 -\n",
    "\n",
    "    Question -\n",
    "\n",
    "    What is the most significant distinction between a dictionary and a list?\n",
    "\n",
    "    Answer -\n",
    "\n",
    "    The items in a list are ordered items, while the items stored in a dictionary are unordered\n"
   ]
  },
  {
   "cell_type": "raw",
   "id": "8d9126de",
   "metadata": {},
   "source": [
    "Number 4 -\n",
    "\n",
    "    Question -\n",
    "\n",
    "    What happens if you try to access spam['foo'] if spam is {'bar': 100}?\n",
    "\n"
   ]
  },
  {
   "cell_type": "code",
   "execution_count": 2,
   "id": "52376fb6",
   "metadata": {},
   "outputs": [
    {
     "ename": "KeyError",
     "evalue": "'foo'",
     "output_type": "error",
     "traceback": [
      "\u001b[1;31m---------------------------------------------------------------------------\u001b[0m",
      "\u001b[1;31mKeyError\u001b[0m                                  Traceback (most recent call last)",
      "Cell \u001b[1;32mIn[2], line 2\u001b[0m\n\u001b[0;32m      1\u001b[0m spam \u001b[38;5;241m=\u001b[39m {\u001b[38;5;124m'\u001b[39m\u001b[38;5;124mbar\u001b[39m\u001b[38;5;124m'\u001b[39m: \u001b[38;5;241m100\u001b[39m}\n\u001b[1;32m----> 2\u001b[0m \u001b[43mspam\u001b[49m\u001b[43m[\u001b[49m\u001b[38;5;124;43m'\u001b[39;49m\u001b[38;5;124;43mfoo\u001b[39;49m\u001b[38;5;124;43m'\u001b[39;49m\u001b[43m]\u001b[49m\n",
      "\u001b[1;31mKeyError\u001b[0m: 'foo'"
     ]
    }
   ],
   "source": [
    "spam = {'bar': 100}\n",
    "spam['foo']"
   ]
  },
  {
   "cell_type": "raw",
   "id": "54d6fc33",
   "metadata": {},
   "source": [
    " - Answer -\n",
    "\n",
    "    We will get a KeyError error.\n"
   ]
  },
  {
   "cell_type": "raw",
   "id": "a98496a8",
   "metadata": {},
   "source": [
    "Number 5 -\n",
    "\n",
    "    Question -\n",
    "\n",
    "    If a dictionary is stored in spam, what is the difference between the expressions 'cat' in spam and 'cat' in spam.keys()?\n",
    "\n",
    "    Answer -\n",
    "\n",
    "    There is no difference. The in operator checks whether a value exists as a key in the dictionary.\n"
   ]
  },
  {
   "cell_type": "raw",
   "id": "b3a55500",
   "metadata": {},
   "source": [
    "Number 6 -\n",
    "\n",
    "    Question -\n",
    "\n",
    "    If a dictionary is stored in spam, what is the difference between the expressions 'cat' in spam and 'cat' in spam.values()?\n",
    "\n",
    "    Answer -\n",
    "\n",
    "    'cat' in spam checks whether there is a 'cat' key in the dictionary, while 'cat' in spam.values() checks whether there is a value 'cat' for one of the keys in spam.\n"
   ]
  },
  {
   "cell_type": "raw",
   "id": "626abbe2",
   "metadata": {},
   "source": [
    "Number 7 -\n",
    "\n",
    "    Question -\n",
    "\n",
    "    What is a shortcut for the following code?\n",
    "\n",
    "        if 'color' not in spam:\n",
    "        spam['color'] = 'black'\n",
    "\n",
    "    Answer -\n",
    "\n",
    "    spam.setdefault('color', 'black')\n"
   ]
  },
  {
   "cell_type": "raw",
   "id": "230a1036",
   "metadata": {},
   "source": [
    "Number 8 -\n",
    "\n",
    "    Question -\n",
    "\n",
    "    How do you \"pretty print\" dictionary values using which module and function?\n",
    "\n",
    "    Answer -\n",
    "\n",
    "    pprint.pprint()\n"
   ]
  },
  {
   "cell_type": "code",
   "execution_count": null,
   "id": "616fc183",
   "metadata": {},
   "outputs": [],
   "source": []
  }
 ],
 "metadata": {
  "kernelspec": {
   "display_name": "Python 3 (ipykernel)",
   "language": "python",
   "name": "python3"
  },
  "language_info": {
   "codemirror_mode": {
    "name": "ipython",
    "version": 3
   },
   "file_extension": ".py",
   "mimetype": "text/x-python",
   "name": "python",
   "nbconvert_exporter": "python",
   "pygments_lexer": "ipython3",
   "version": "3.10.9"
  }
 },
 "nbformat": 4,
 "nbformat_minor": 5
}
